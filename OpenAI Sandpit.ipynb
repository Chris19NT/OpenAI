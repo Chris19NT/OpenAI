{
 "cells": [
  {
   "cell_type": "markdown",
   "id": "d00d9bbf",
   "metadata": {},
   "source": [
    "## Open AI Playground \n",
    "https://platform.openai.com/playground\n",
    "    \n",
    "## Code examples\n",
    "https://platform.openai.com/examples"
   ]
  },
  {
   "cell_type": "markdown",
   "id": "b95fc92d",
   "metadata": {},
   "source": [
    "## Variables\n",
    "### temperature\n",
    "number\n",
    "Optional\n",
    "Defaults to 1\n",
    "What sampling temperature to use, between 0 and 2. Higher values like 0.8 will make the output more random, while lower values like 0.2 will make it more focused and deterministic.\n",
    "\n",
    "We generally recommend altering this or top_p but not both.\n",
    "\n",
    "### top_p\n",
    "number\n",
    "Optional\n",
    "Defaults to 1\n",
    "An alternative to sampling with temperature, called nucleus sampling, where the model considers the results of the tokens with top_p probability mass. So 0.1 means only the tokens comprising the top 10% probability mass are considered.\n",
    "\n",
    "We generally recommend altering this or temperature but not both.\n",
    "\n",
    "### n\n",
    "integer\n",
    "Optional\n",
    "Defaults to 1\n",
    "How many chat completion choices to generate for each input message.\n",
    "\n",
    "### frequency_penalty\n",
    "number\n",
    "Optional\n",
    "Defaults to 0\n",
    "Number between -2.0 and 2.0. Positive values penalize new tokens based on their existing frequency in the text so far, decreasing the model's likelihood to repeat the same line verbatim.\n",
    "\n",
    "### presence_penalty\n",
    "number\n",
    "Optional\n",
    "Defaults to 0\n",
    "Number between -2.0 and 2.0. Positive values penalize new tokens based on whether they appear in the text so far, increasing the model's likelihood to talk about new topics."
   ]
  },
  {
   "cell_type": "markdown",
   "id": "c56b0159",
   "metadata": {},
   "source": [
    "## API Keys\n",
    "https://platform.openai.com/account/api-keys\n"
   ]
  },
  {
   "cell_type": "code",
   "execution_count": 1,
   "id": "89057129",
   "metadata": {},
   "outputs": [],
   "source": [
    "my_openAI_key = input(str(\"Key:\"))"
   ]
  },
  {
   "cell_type": "markdown",
   "id": "a70cafbd",
   "metadata": {},
   "source": [
    "## Test OpenAI installation"
   ]
  },
  {
   "cell_type": "code",
   "execution_count": 2,
   "id": "74348293",
   "metadata": {
    "scrolled": false
   },
   "outputs": [
    {
     "name": "stdout",
     "output_type": "stream",
     "text": [
      "OpenAI installation test successful!\n"
     ]
    }
   ],
   "source": [
    "import openai\n",
    "\n",
    "openai.api_key = my_openAI_key\n",
    "\n",
    "def test_openai_installation():\n",
    "    try:\n",
    "        # Test OpenAI import\n",
    "        openai.Completion.create(engine='davinci', prompt='Hello, world!', max_tokens=5)\n",
    "        print(\"OpenAI installation test successful!\")\n",
    "    except Exception as e:\n",
    "        print(\"OpenAI installation test failed.\")\n",
    "        print(\"Error:\", str(e))\n",
    "\n",
    "# Call the test_openai_installation() function to test OpenAI installation\n",
    "test_openai_installation()\n",
    "\n"
   ]
  },
  {
   "cell_type": "markdown",
   "id": "f1ce16d0",
   "metadata": {},
   "source": [
    "## Test API key"
   ]
  },
  {
   "cell_type": "code",
   "execution_count": 3,
   "id": "0e368c5e",
   "metadata": {},
   "outputs": [
    {
     "name": "stdout",
     "output_type": "stream",
     "text": [
      "API key test successful!\n"
     ]
    }
   ],
   "source": [
    "import openai\n",
    "\n",
    "openai.api_key = my_openAI_key\n",
    "\n",
    "def test_api_key():\n",
    "    try:\n",
    "        prompt = \"Hello, world!\"\n",
    "        response = openai.Completion.create(engine='davinci', prompt=prompt, max_tokens=5)\n",
    "        if 'choices' in response:\n",
    "            print(\"API key test successful!\")\n",
    "        else:\n",
    "            print(\"API key test failed.\")\n",
    "            print(\"Response:\", response)\n",
    "    except Exception as e:\n",
    "        print(\"API key test failed.\")\n",
    "        print(\"Error:\", str(e))\n",
    "\n",
    "# Call the test_api_key() function to test your API key\n",
    "test_api_key()\n",
    "\n"
   ]
  },
  {
   "cell_type": "markdown",
   "id": "3a0b4c59",
   "metadata": {},
   "source": [
    "## Example summarization: article from a url"
   ]
  },
  {
   "cell_type": "markdown",
   "id": "7fc332a1",
   "metadata": {},
   "source": [
    "https://medium.com/muthoni-wanyoike/implementing-text-summarization-using-openais-gpt-3-api-dcd6be4f6933#id_token=eyJhbGciOiJSUzI1NiIsImtpZCI6IjkzNDFkZWRlZWUyZDE4NjliNjU3ZmE5MzAzMDAwODJmZTI2YjNkOTIiLCJ0eXAiOiJKV1QifQ.eyJpc3MiOiJodHRwczovL2FjY291bnRzLmdvb2dsZS5jb20iLCJuYmYiOjE2ODg0MTg3MjksImF1ZCI6IjIxNjI5NjAzNTgzNC1rMWs2cWUwNjBzMnRwMmEyamFtNGxqZGNtczAwc3R0Zy5hcHBzLmdvb2dsZXVzZXJjb250ZW50LmNvbSIsInN1YiI6IjEwNDI4MTQ2ODM0ODEzNDUxMTMzMCIsImVtYWlsIjoiY2hyaXNtaWNhbGxpc29uQGdtYWlsLmNvbSIsImVtYWlsX3ZlcmlmaWVkIjp0cnVlLCJhenAiOiIyMTYyOTYwMzU4MzQtazFrNnFlMDYwczJ0cDJhMmphbTRsamRjbXMwMHN0dGcuYXBwcy5nb29nbGV1c2VyY29udGVudC5jb20iLCJuYW1lIjoiQ2hyaXMgQWxsaXNvbiIsInBpY3R1cmUiOiJodHRwczovL2xoMy5nb29nbGV1c2VyY29udGVudC5jb20vYS9BQWNIVHRjMEFHeE1ZUTFZRnQ2am5xbUxwU0l5LWRaVlRMQ3J1anhXOFd3a0xQdTU9czk2LWMiLCJnaXZlbl9uYW1lIjoiQ2hyaXMiLCJmYW1pbHlfbmFtZSI6IkFsbGlzb24iLCJpYXQiOjE2ODg0MTkwMjksImV4cCI6MTY4ODQyMjYyOSwianRpIjoiNzE1MzQyNzdiYjRmOWY5ZGJlNzBkNzNmYTRhYmNkNjlkNmJlZTA1MyJ9.FOZ0LniI_0l0yYHuX4XKTzranqR76soKzlZSM4u4wEDR1tK_A8N-wuiQM_Zmq0LmoLSmmMqJQCE4Srufb1qIT2dxBVzJhFlrzcPzI3qP7H0-hTwz7klWUgfnUDIX4IntCRuk5XJ-A02bDD2c2Yk41GAPY6e_MBAdLFjw1F75GTxhCefAPxcviHQlNT_JelyDvU36AqI-dlJGgYorLX7v5PKAaXf4koWx3-Z_IVNDQG69Zg5avvkr3eDwCJHGRvEVeyM2KsTubF-UPDMZ7UqzRgrusF8R-mp96CCPktmVkmhdyaU9OgI8eIjzRiHKKXsrp2S6qE-XOyQotzxARgo6nQ\n",
    "________________________________________"
   ]
  },
  {
   "cell_type": "code",
   "execution_count": 13,
   "id": "ce5def78",
   "metadata": {
    "scrolled": true
   },
   "outputs": [
    {
     "name": "stdout",
     "output_type": "stream",
     "text": [
      "Calling openai.Completion.create\n",
      "Printing summary .. \n",
      "\n",
      "\n",
      "Nearly a thousand workers at Gatwick Airport are set to take eight days of strike action over the summer holidays in a row over pay. The strike could cause disruption during what could be the busiest summer period since the pandemic. Airlines affected include British Airways, EasyJet, Ryanair, Tui, Westjet and Wizz. The workers are employed by four firms and are demanding pay rises that stay aligned with the rising cost of living. On the days of the strikes, 4,410 flights are scheduled to depart the airport.\n",
      "\n",
      "\n",
      "\n",
      "Original text:\n",
      "\n",
      "\n",
      "Gatwick Airport to be hit by strikes over summer holidays Published 2 days ago comments Comments Share close panel Share page Copy link About sharing Image source,  Getty Images By Tom Espiner & Faarea Masud Business reporters, BBC News Nearly a thousand workers are set to take eight days of strike action at Gatwick Airport over the summer holidays in a row over pay, the Unite union has said. The strike could cause some disruption during what could be the busiest summer period since the pandemic. The workers, at four firms, include baggage handlers and ground staff. They will strike from Friday 28 July to Tuesday 1 August, and then again from Friday 4 August to Tuesday 8 August. Airlines that will be affected include British Airways, EasyJet, Ryanair, Tui, Westjet and Wizz, the union said. The impact of the action is uncertain, although Unite said disruption, delays and cancellations were \"inevitable\". A spokesperson for Gatwick said it would \"support the airlines affected... with their contingency plans to ensure that as many flights as possible operate as scheduled\". The 950 workers who are set to strike represent more than half of the ground handling staff at Gatwick, a Unite spokesman said. The staff are not employed by Gatwick Airport, but work at four firms: ASC, Menzies Aviation, GGS and DHL Services. These companies provide services to major airlines, including ground handling, baggage handling, and check-in work. An EasyJet spokesperson said the airline was \"extremely disappointed\" by news of the walkout. \"More talks between our ground handler DHL and Unite are taking place early next week to try and resolve the issue and we urge them to reach an agreement as soon as possible,\" the spokesperson added. Spokespeople at DHL and GGS said they were continuing to work with Unite to try to reach a solution. Phil Lloyd from Menzies Aviation said Unite had rejected its offer of an 11% pay increase. \"This pay award relates to our 2023 Pay Review and is in addition to the 10% increase awarded in 2022\". He added that Menzies was in \"continued discussions\" with airlines and that it \"remains committed to seeking a resolution\". Image source,  Reuters Most of the workers earn under Â£12 per hour, Unite said, \"despite undertaking highly demanding and safety critical roles\". \"During the pandemic, many companies at Gatwick Airport made large-scale redundancies and cut the pay and conditions of their remaining staff,\" it added. Unite has been pushing for pay rises for members, and in June it  called off strike action  by security staff at Britain's busiest airport, Heathrow, after securing a new deal. The action at Gatwick, if it goes ahead, will put further pressure on the aviation industry as it deals with restricted airspace over Ukraine due to Russia's war and  the possibility of air traffic control strikes . There is a shortage of air traffic controllers, and some strikes are already planned - for example, there is an air traffic strike in Italy on Saturday 15 July, which Ryanair has said is expected to cause cancellations and disruption. Earlier this week,  Easyjet cancelled 1,700 flights  during July, August and September due to constrained airspace over Europe and continuing air traffic control difficulties. About 100 airport security staff and technicians are  set to walk out at Birmingham Airport  from 18 July, but the airport has said if a strike does take place, its effect would be limited, with no cancellations. In early July, Unite members working in security at Gatwick Airport secured a 16% pay increase. The Gatwick staff join several other industries who have been striking periodically since last year, including nursing, the Civil Service, Border Force staff and railways. Workers are mainly demanding pay rises that stay aligned with the rising cost of living. The exact timing of each strike will vary depending on the individual company's shift patterns, but all strikes will begin in the early hours of the morning on the 28 July and 4 August, and end in the early hours of the morning on 1 and 8 August. On the days of the Gatwick strikes, a total of 4,410 flights - covering more than 880,000 seats - are scheduled to depart the airport, according to Cirium, an aviation analytics firm. Sign up for our morning newsletter  and get BBC News in your inbox. Related Topics Gatwick Airport Air travel Unite Strike action More on this story Easyjet cancels 1,700 flights from July to September Published 6 days ago Strike action could hit holiday flights in Europe Published 7 July Heathrow security staff call off strikes Published 23 June View comments\n"
     ]
    }
   ],
   "source": [
    "import openai\n",
    "import requests\n",
    "import requests\n",
    "from bs4 import BeautifulSoup\n",
    "openai.api_key = my_openAI_key\n",
    "\n",
    "def split_text(text):\n",
    "    max_chunk_size = 10000\n",
    "    chunks = []\n",
    "    current_chunk = \"\"\n",
    "    for sentence in text.split(\".\"):\n",
    "        if len(current_chunk) + len(sentence) < max_chunk_size:\n",
    "            current_chunk += sentence + \".\"\n",
    "        else:\n",
    "            chunks.append(current_chunk.strip())\n",
    "            current_chunk = sentence + \".\"\n",
    "    if current_chunk:\n",
    "        chunks.append(current_chunk.strip())\n",
    "    return chunks\n",
    "\n",
    "def scrape_url(url):\n",
    "    # Send a GET request to the URL\n",
    "    response = requests.get(url)\n",
    "\n",
    "    # Create a BeautifulSoup object with the response text\n",
    "    soup = BeautifulSoup(response.text, 'html.parser')\n",
    "\n",
    "    # Find the article body\n",
    "    article_body = soup.find('article')\n",
    "\n",
    "    # Extract the text content of the article body\n",
    "    body_text = article_body.get_text(separator=' ')\n",
    "\n",
    "    \n",
    "    return body_text\n",
    "\n",
    "def generate_summary(text):\n",
    "    input_chunks = split_text(text)\n",
    "    output_chunks = []\n",
    "    for chunk in input_chunks:\n",
    "        print(\"Calling openai.Completion.create\")\n",
    "        response = openai.Completion.create(\n",
    "            # model=\"davinci\",\n",
    "            model=\"text-davinci-003\",\n",
    "            prompt=(f\"Please summarize the following text:\\n{chunk}\\n\\nSummary:\"),\n",
    "            # prompt=\"Summarize this for a grade two student:\\n{chunk}\\n\\nSummary:\",\n",
    "            temperature=0,\n",
    "            max_tokens=250,\n",
    "            n=1,\n",
    "            stop=None\n",
    "        )\n",
    "        summary = response.choices[0].text.strip()\n",
    "        output_chunks.append(summary)\n",
    "    return \" \".join(output_chunks)\n",
    "\n",
    "# url = \"https://edition.cnn.com/2023/07/14/europe/europe-heat-wave-italy-cerberus-climate-intl/index.html\"\n",
    "url = \"https://www.bbc.co.uk/news/business-66199180\"\n",
    "# replacing requests.get with scrape_url to clean up the html\n",
    "# response = requests.get(url)\n",
    "# text = response.text\n",
    "bodytext = scrape_url(url)\n",
    "\n",
    "summary = generate_summary(bodytext)\n",
    "print(\"Printing summary .. \\n\\n\")\n",
    "print(summary)\n",
    "print(\"\\n\\n\")\n",
    "print(\"Original text:\\n\\n\")\n",
    "print(bodytext)\n",
    "\n",
    "\n"
   ]
  },
  {
   "cell_type": "markdown",
   "id": "9d15758f",
   "metadata": {},
   "source": [
    "## Using Davinci model (legacy)\n",
    "### Summarize an article from url\n",
    "________________________________________\n"
   ]
  },
  {
   "cell_type": "code",
   "execution_count": 55,
   "id": "f10d7e7b",
   "metadata": {},
   "outputs": [
    {
     "name": "stdout",
     "output_type": "stream",
     "text": [
      "Nearly a thousand workers at Gatwick Airport are set to take eight days of strike action, spread over two periods, in a row over pay. Airlines that will be affected include British Airways, EasyJet, Ryanair, Tui, Westjet and Wizz, the Unite union said. Unite is demanding pay rises for members, and in June called off strike action at Heathrow Airport after securing a new deal. Workers are mainly demanding pay rises that stay aligned with the rising cost of living and the strikes could cause disruption, delays and cancellations. A spokesperson for Gatwick said they would will support the airlines with their contingency plans.\n"
     ]
    }
   ],
   "source": [
    "import requests\n",
    "from bs4 import BeautifulSoup\n",
    "\n",
    "# URL of the web page to scrape\n",
    "url = 'https://www.bbc.co.uk/news/business-66199180'\n",
    "\n",
    "\n",
    "\n",
    "# Send a GET request to the URL\n",
    "response = requests.get(url)\n",
    "\n",
    "# Create a BeautifulSoup object with the response text\n",
    "soup = BeautifulSoup(response.text, 'html.parser')\n",
    "\n",
    "# Find the article body\n",
    "article_body = soup.find('article')\n",
    "\n",
    "# Find and remove the sidebar content\n",
    "sidebar = article_body.find('div', class_='ssrcss-1hfoq66-SecondaryColumnContainer e1xt4we20')\n",
    "if sidebar:\n",
    "    sidebar.decompose()\n",
    "\n",
    "# Extract the text content of the article body\n",
    "body_text = article_body.get_text(separator=' ')\n",
    "\n",
    "\n",
    "import openai\n",
    "\n",
    "# Set up OpenAI API client\n",
    "openai.api_key = my_openAI_key\n",
    "\n",
    "# Define the prompt for summarization\n",
    "prompt = 'Summarize the following article: ' + body_text\n",
    "\n",
    "# Set the model and parameters for summarization\n",
    "model = 'text-davinci-003'\n",
    "max_tokens = 250  # Adjust the desired length of the summary\n",
    "\n",
    "# Generate the summary\n",
    "response = openai.Completion.create(\n",
    "    engine=model,\n",
    "    prompt=prompt,\n",
    "    max_tokens=max_tokens\n",
    ")\n",
    "\n",
    "# Extract the generated summary from the API response\n",
    "summary = response.choices[0].text.strip()\n",
    "print(summary)\n"
   ]
  },
  {
   "cell_type": "markdown",
   "id": "032c44c8",
   "metadata": {},
   "source": [
    "## Using GPT-3.5 Turbo"
   ]
  },
  {
   "cell_type": "markdown",
   "id": "3f30d767",
   "metadata": {},
   "source": [
    "## Generic chat response: use any prompt"
   ]
  },
  {
   "cell_type": "code",
   "execution_count": 5,
   "id": "6d44564c",
   "metadata": {},
   "outputs": [
    {
     "name": "stdout",
     "output_type": "stream",
     "text": [
      "negative\n"
     ]
    }
   ],
   "source": [
    "import openai\n",
    "\n",
    "openai.api_key = my_openAI_key\n",
    "\n",
    "content = \"I hated the new Batman movie\"\n",
    "\n",
    "# Can take any prompt\n",
    "prompt=\"Decide whether this news headline's sentiment is positive, neutral, or negative.\\n\\n: \" + content\n",
    "\n",
    "\n",
    "def chatgpt_call(prompt_in):\n",
    "    response = openai.ChatCompletion.create(\n",
    "        model=\"gpt-3.5-turbo\",\n",
    "        messages=[{\"role\": \"user\", \"content\": prompt_in}],\n",
    "        temperature=0,\n",
    "        max_tokens=60,\n",
    "        top_p=1,\n",
    "        frequency_penalty=0,\n",
    "        presence_penalty=0\n",
    "    )\n",
    "    output = response.choices[0].message['content'].strip()\n",
    "    return output\n",
    "\n",
    "result = chatgpt_call(prompt)\n",
    "print(result)\n"
   ]
  },
  {
   "cell_type": "markdown",
   "id": "9c6ca47e",
   "metadata": {},
   "source": [
    "## Summarization"
   ]
  },
  {
   "cell_type": "code",
   "execution_count": 3,
   "id": "859f238c",
   "metadata": {},
   "outputs": [
    {
     "name": "stdout",
     "output_type": "stream",
     "text": [
      "Nearly a thousand workers at Gatwick Airport are set to go on strike for eight days over the summer holidays in a dispute over pay. The strike, which will take place from 28 July to 1 August and from 4 August to 8 August, could cause disruption during what is expected to be a busy summer period. The workers, who include baggage handlers and ground staff, are employed by four firms that provide services to major airlines. The Unite union has warned that disruption, delays, and cancellations are \"inevitable\". Airlines affected by the strike include British Airways, EasyJet, Ryanair, Tui, Westjet, and Wizz.\n"
     ]
    }
   ],
   "source": [
    "article = \"Gatwick Airport to be hit by strikes over summer holidays Published 2 days ago comments Comments Share close panel Share page Copy link About sharing Image source,  Getty Images By Tom Espiner & Faarea Masud Business reporters, BBC News Nearly a thousand workers are set to take eight days of strike action at Gatwick Airport over the summer holidays in a row over pay, the Unite union has said. The strike could cause some disruption during what could be the busiest summer period since the pandemic. The workers, at four firms, include baggage handlers and ground staff. They will strike from Friday 28 July to Tuesday 1 August, and then again from Friday 4 August to Tuesday 8 August. Airlines that will be affected include British Airways, EasyJet, Ryanair, Tui, Westjet and Wizz, the union said. The impact of the action is uncertain, although Unite said disruption, delays and cancellations were ‘inevitable’. A spokesperson for Gatwick said it would ‘support the airlines affected... with their contingency plans to ensure that as many flights as possible operate as scheduled’. The 950 workers who are set to strike represent more than half of the ground handling staff at Gatwick, a Unite spokesman said. The staff are not employed by Gatwick Airport, but work at four firms: ASC, Menzies Aviation, GGS and DHL Services. These companies provide services to major airlines, including ground handling, baggage handling, and check-in work. An EasyJet spokesperson said the airline was ‘extremely disappointed’ by news of the walkout. ‘More talks between our ground handler DHL and Unite are taking place early next week to try and resolve the issue and we urge them to reach an agreement as soon as possible,’ the spokesperson added. Spokespeople at DHL and GGS said they were continuing to work with Unite to try to reach a solution. Phil Lloyd from Menzies Aviation said Unite had rejected its offer of an 11% pay increase. ‘This pay award relates to our 2023 Pay Review and is in addition to the 10% increase awarded in 2022’. He added that Menzies was in ‘continued discussions’ with airlines and that it ‘remains committed to seeking a resolution’. Image source,  Reuters Most of the workers earn under Â£12 per hour, Unite said, ‘despite undertaking highly demanding and safety critical roles’. ‘During the pandemic, many companies at Gatwick Airport made large-scale redundancies and cut the pay and conditions of their remaining staff,’ it added. Unite has been pushing for pay rises for members, and in June it  called off strike action  by security staff at Britain's busiest airport, Heathrow, after securing a new deal. The action at Gatwick, if it goes ahead, will put further pressure on the aviation industry as it deals with restricted airspace over Ukraine due to Russia's war and  the possibility of air traffic control strikes . There is a shortage of air traffic controllers, and some strikes are already planned - for example, there is an air traffic strike in Italy on Saturday 15 July, which Ryanair has said is expected to cause cancellations and disruption. Earlier this week,  Easyjet cancelled 1,700 flights  during July, August and September due to constrained airspace over Europe and continuing air traffic control difficulties. About 100 airport security staff and technicians are  set to walk out at Birmingham Airport  from 18 July, but the airport has said if a strike does take place, its effect would be limited, with no cancellations. In early July, Unite members working in security at Gatwick Airport secured a 16% pay increase. The Gatwick staff join several other industries who have been striking periodically since last year, including nursing, the Civil Service, Border Force staff and railways. Workers are mainly demanding pay rises that stay aligned with the rising cost of living. The exact timing of each strike will vary depending on the individual company's shift patterns, but all strikes will begin in the early hours of the morning on the 28 July and 4 August, and end in the early hours of the morning on 1 and 8 August. On the days of the Gatwick strikes, a total of 4,410 flights - covering more than 880,000 seats - are scheduled to depart the airport, according to Cirium, an aviation analytics firm. Sign up for our morning newsletter  and get BBC News in your inbox. Related Topics Gatwick Airport Air travel Unite Strike action More on this story Easyjet cancels 1,700 flights from July to September Published 6 days ago Strike action could hit holiday flights in Europe Published 7 July Heathrow security staff call off strikes Published 23 June View comments\"\n",
    "\n",
    "def summarize_article(article_in):\n",
    "    import openai\n",
    "    openai.api_key = my_openAI_key\n",
    "    # Build the prompt\n",
    "    prompt=\"Summarize this article.\\n\\n: \" + article_in\n",
    "    # API call to OpenAI\n",
    "    response = openai.ChatCompletion.create(\n",
    "        model=\"gpt-3.5-turbo\",\n",
    "        messages=[{\"role\": \"user\", \"content\": prompt}],\n",
    "        temperature=0,\n",
    "        max_tokens=250,\n",
    "        top_p=1,\n",
    "        frequency_penalty=0,\n",
    "        presence_penalty=0\n",
    "    )\n",
    "    summary = response.choices[0].message['content'].strip()\n",
    "    return summary\n",
    "\n",
    "result = summarize_article(article)\n",
    "print(result)"
   ]
  },
  {
   "cell_type": "code",
   "execution_count": null,
   "id": "5fc3cf35",
   "metadata": {},
   "outputs": [],
   "source": []
  }
 ],
 "metadata": {
  "kernelspec": {
   "display_name": "Python 3 (ipykernel)",
   "language": "python",
   "name": "python3"
  },
  "language_info": {
   "codemirror_mode": {
    "name": "ipython",
    "version": 3
   },
   "file_extension": ".py",
   "mimetype": "text/x-python",
   "name": "python",
   "nbconvert_exporter": "python",
   "pygments_lexer": "ipython3",
   "version": "3.11.4"
  }
 },
 "nbformat": 4,
 "nbformat_minor": 5
}
